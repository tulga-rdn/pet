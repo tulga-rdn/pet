{
 "cells": [
  {
   "cell_type": "code",
   "execution_count": 1,
   "metadata": {},
   "outputs": [
    {
     "name": "stdout",
     "output_type": "stream",
     "text": [
      "Failed to load neighbors_convert.so: /home/chorna/pet-last-layer/src/neighbors_convert.so: cannot open shared object file: No such file or directory\n"
     ]
    }
   ],
   "source": [
    "import ase.io\n",
    "from src.hypers import load_hypers_from_file\n",
    "from src.data_preparation import get_all_species\n",
    "from src.pet import PET, PETUtilityWrapper, PETMLIPWrapper\n",
    "# from src.pet_old import PET, PETUtilityWrapper, PETMLIPWrapper\n",
    "\n",
    "import torch\n",
    "from src.molecule import MoleculeCPP, Molecule\n",
    "from matscipy.neighbours import neighbour_list as neighbor_list\n",
    "\n",
    "torch.set_default_dtype(torch.float32)"
   ]
  },
  {
   "cell_type": "code",
   "execution_count": 2,
   "metadata": {},
   "outputs": [],
   "source": [
    "device = torch.device(\"cuda:0\" if torch.cuda.is_available() else \"cpu\")\n",
    "\n",
    "\n",
    "def prepare_test(\n",
    "    stucture_path,\n",
    "    r_cut,\n",
    "    n_gnn,\n",
    "    n_trans,\n",
    "    hypers_path=\"./default_hypers/default_hypers.yaml\",\n",
    "):\n",
    "    structure = ase.io.read(stucture_path, index=0)\n",
    "    hypers = load_hypers_from_file(hypers_path)\n",
    "\n",
    "    MLIP_SETTINGS = hypers.MLIP_SETTINGS\n",
    "    ARCHITECTURAL_HYPERS = hypers.ARCHITECTURAL_HYPERS\n",
    "    FITTING_SCHEME = hypers.FITTING_SCHEME\n",
    "\n",
    "    ARCHITECTURAL_HYPERS.D_OUTPUT = 1  # energy is a single scalar\n",
    "    ARCHITECTURAL_HYPERS.TARGET_TYPE = \"structural\"  # energy is structural property\n",
    "    ARCHITECTURAL_HYPERS.TARGET_AGGREGATION = (\n",
    "        \"sum\"  # energy is a sum of atomic energies\n",
    "    )\n",
    "    ARCHITECTURAL_HYPERS.R_CUT = r_cut\n",
    "    ARCHITECTURAL_HYPERS.N_TRANS_LAYERS = n_trans\n",
    "    ARCHITECTURAL_HYPERS.N_GNN_LAYERS = n_gnn\n",
    "    all_species = get_all_species([structure])\n",
    "\n",
    "    model = PET(ARCHITECTURAL_HYPERS, 0.0, len(all_species)).to(device)\n",
    "    model = PETUtilityWrapper(model, FITTING_SCHEME.GLOBAL_AUG)\n",
    "\n",
    "    model = PETMLIPWrapper(model, MLIP_SETTINGS.USE_ENERGIES, MLIP_SETTINGS.USE_FORCES)\n",
    "    return model, structure, all_species, ARCHITECTURAL_HYPERS"
   ]
  },
  {
   "cell_type": "code",
   "execution_count": 3,
   "metadata": {},
   "outputs": [],
   "source": [
    "def get_graph(structure, all_species, ARCHITECTURAL_HYPERS):\n",
    "    molecule = Molecule(\n",
    "        structure,\n",
    "        ARCHITECTURAL_HYPERS.R_CUT,\n",
    "        ARCHITECTURAL_HYPERS.USE_ADDITIONAL_SCALAR_ATTRIBUTES,\n",
    "        ARCHITECTURAL_HYPERS.USE_LONG_RANGE,\n",
    "        ARCHITECTURAL_HYPERS.K_CUT,\n",
    "        ARCHITECTURAL_HYPERS.N_TARGETS > 1,\n",
    "        ARCHITECTURAL_HYPERS.N_TARGETS,\n",
    "    )\n",
    "    if ARCHITECTURAL_HYPERS.USE_LONG_RANGE:\n",
    "        raise NotImplementedError(\n",
    "            \"Long range interactions are not supported in the SingleStructCalculator\"\n",
    "        )\n",
    "\n",
    "    graph = molecule.get_graph(molecule.get_max_num(), all_species, None)\n",
    "    graph.batch = torch.zeros(graph.num_nodes, dtype=torch.long, device=graph.x.device)\n",
    "    graph = graph.to(device)\n",
    "    return graph"
   ]
  },
  {
   "cell_type": "code",
   "execution_count": 4,
   "metadata": {},
   "outputs": [],
   "source": [
    "\n",
    "def get_predictions_old_python(model, structure, all_species, ARCHITECTURAL_HYPERS):\n",
    "    molecule = Molecule(\n",
    "        structure,\n",
    "        ARCHITECTURAL_HYPERS.R_CUT,\n",
    "        ARCHITECTURAL_HYPERS.USE_ADDITIONAL_SCALAR_ATTRIBUTES,\n",
    "        ARCHITECTURAL_HYPERS.USE_LONG_RANGE,\n",
    "        ARCHITECTURAL_HYPERS.K_CUT,\n",
    "        ARCHITECTURAL_HYPERS.N_TARGETS > 1,\n",
    "        ARCHITECTURAL_HYPERS.N_TARGETS,\n",
    "    )\n",
    "    if ARCHITECTURAL_HYPERS.USE_LONG_RANGE:\n",
    "        raise NotImplementedError(\n",
    "            \"Long range interactions are not supported in the SingleStructCalculator\"\n",
    "        )\n",
    "\n",
    "    graph = molecule.get_graph(molecule.get_max_num(), all_species, None)\n",
    "    graph.batch = torch.zeros(graph.num_nodes, dtype=torch.long, device=graph.x.device)\n",
    "    graph = graph.to(device)\n",
    "\n",
    "    print(\"graph\", graph)\n",
    "    prediction_energy, prediction_forces = model(\n",
    "        graph, augmentation=False, create_graph=False\n",
    "    )\n",
    "\n",
    "    return prediction_energy, prediction_forces, graph\n",
    "\n",
    "\n",
    "def get_predictions_cpp(model, structure, all_species, ARCHITECTURAL_HYPERS):\n",
    "\n",
    "    molecule = MoleculeCPP(\n",
    "        structure,\n",
    "        ARCHITECTURAL_HYPERS.R_CUT,\n",
    "        ARCHITECTURAL_HYPERS.USE_ADDITIONAL_SCALAR_ATTRIBUTES,\n",
    "        ARCHITECTURAL_HYPERS.USE_LONG_RANGE,\n",
    "        ARCHITECTURAL_HYPERS.K_CUT,\n",
    "        ARCHITECTURAL_HYPERS.N_TARGETS > 1,\n",
    "        ARCHITECTURAL_HYPERS.N_TARGETS,\n",
    "    )\n",
    "    if ARCHITECTURAL_HYPERS.USE_LONG_RANGE:\n",
    "        raise NotImplementedError(\n",
    "            \"Long range interactions are not supported in the SingleStructCalculator\"\n",
    "        )\n",
    "\n",
    "    graph = molecule.get_graph(molecule.get_max_num(), all_species, None)\n",
    "    graph.batch = torch.zeros(graph.num_nodes, dtype=torch.long, device=graph.x.device)\n",
    "    graph = graph.to(device)\n",
    "    prediction_energy, prediction_forces = model(\n",
    "        graph, augmentation=False, create_graph=False\n",
    "    )\n",
    "\n",
    "    return prediction_energy, prediction_forces, graph"
   ]
  },
  {
   "cell_type": "code",
   "execution_count": 5,
   "metadata": {},
   "outputs": [
    {
     "name": "stdout",
     "output_type": "stream",
     "text": [
      "Shape of x in HeadWithoutLastLayer: torch.Size([5, 128])\n",
      "Shape of hidden in HeadWithoutLastLayer (single target): torch.Size([5, 128])\n",
      "Shape of x in HeadWithoutLastLayer: torch.Size([5, 4, 128])\n",
      "Shape of hidden in HeadWithoutLastLayer (single target): torch.Size([5, 4, 128])\n",
      "Shape of result in MessagesBondsPredictor: torch.Size([5, 1])\n",
      "Shape of x in HeadWithoutLastLayer: torch.Size([5, 128])\n",
      "Shape of hidden in HeadWithoutLastLayer (single target): torch.Size([5, 128])\n",
      "Shape of x in HeadWithoutLastLayer: torch.Size([5, 4, 128])\n",
      "Shape of hidden in HeadWithoutLastLayer (single target): torch.Size([5, 4, 128])\n",
      "Shape of result in MessagesBondsPredictor: torch.Size([5, 1])\n",
      "Final hidden shape: torch.Size([5, 128])\n",
      "Final hidden_bonds shape: torch.Size([5, 1])\n",
      "Shape of atomic_predictions from hidden: torch.Size([5, 1])\n"
     ]
    }
   ],
   "source": [
    "model, structure, all_species, ARCHITECTURAL_HYPERS = prepare_test(\n",
    "    \"./example/methane_train.xyz\", 10.0, 2, 2\n",
    ")\n",
    "\n",
    "graph = get_graph(structure, all_species, ARCHITECTURAL_HYPERS)\n",
    "\n",
    "result = model.get_predictions(graph, augmentation=False)\n",
    "\n",
    "# print(model.get_last_layer(graph, augmentation=False))\n",
    "\n",
    "# cpp_energy, cpp_forces, cpp_graph = get_predictions_cpp(\n",
    "#     model, structure, all_species, ARCHITECTURAL_HYPERS\n",
    "# )\n",
    "\n",
    "# print(\"Energy difference: \", torch.abs(python_energy - cpp_energy))\n",
    "# print(\"Forces difference: \", torch.abs(python_forces - cpp_forces).max())"
   ]
  },
  {
   "cell_type": "code",
   "execution_count": 6,
   "metadata": {},
   "outputs": [
    {
     "name": "stdout",
     "output_type": "stream",
     "text": [
      "tensor([0.3909], device='cuda:0', grad_fn=<SelectBackward0>)\n"
     ]
    }
   ],
   "source": [
    "print(result)"
   ]
  },
  {
   "cell_type": "code",
   "execution_count": 7,
   "metadata": {},
   "outputs": [
    {
     "name": "stdout",
     "output_type": "stream",
     "text": [
      "graph Data(x=[5, 4, 3], central_species=[5], neighbor_species=[5, 4], neighbors_pos=[5, 4], neighbors_index=[4, 5], nums=[5], mask=[5, 4], n_atoms=5, batch=[5])\n",
      "Shape of x in HeadWithoutLastLayer: torch.Size([5, 128])\n",
      "Shape of hidden in HeadWithoutLastLayer (single target): torch.Size([5, 128])\n",
      "Shape of x in HeadWithoutLastLayer: torch.Size([5, 4, 128])\n",
      "Shape of hidden in HeadWithoutLastLayer (single target): torch.Size([5, 4, 128])\n",
      "Shape of result in MessagesBondsPredictor: torch.Size([5, 1])\n",
      "Shape of x in HeadWithoutLastLayer: torch.Size([5, 128])\n",
      "Shape of hidden in HeadWithoutLastLayer (single target): torch.Size([5, 128])\n",
      "Shape of x in HeadWithoutLastLayer: torch.Size([5, 4, 128])\n",
      "Shape of hidden in HeadWithoutLastLayer (single target): torch.Size([5, 4, 128])\n",
      "Shape of result in MessagesBondsPredictor: torch.Size([5, 1])\n",
      "Final hidden shape: torch.Size([5, 128])\n",
      "Final hidden_bonds shape: torch.Size([5, 1])\n",
      "Shape of atomic_predictions from hidden: torch.Size([5, 1])\n"
     ]
    },
    {
     "data": {
      "text/plain": [
       "tensor([0.3909], device='cuda:0', grad_fn=<SelectBackward0>)"
      ]
     },
     "execution_count": 7,
     "metadata": {},
     "output_type": "execute_result"
    }
   ],
   "source": [
    "python_energy, python_forces, python_graph = get_predictions_old_python(\n",
    "    model, structure, all_species, ARCHITECTURAL_HYPERS\n",
    ")\n",
    "python_energy"
   ]
  },
  {
   "cell_type": "code",
   "execution_count": 8,
   "metadata": {},
   "outputs": [],
   "source": [
    "from sklearn.decomposition import PCA\n",
    "\n",
    "\n",
    "pca = PCA(n_components=2)\n",
    "PCA_X_reduced = pca.fit_transform(python_forces.cpu().detach().numpy())"
   ]
  },
  {
   "cell_type": "code",
   "execution_count": 9,
   "metadata": {},
   "outputs": [
    {
     "data": {
      "text/plain": [
       "<matplotlib.collections.PathCollection at 0x7f85a7d3f9b0>"
      ]
     },
     "execution_count": 9,
     "metadata": {},
     "output_type": "execute_result"
    },
    {
     "data": {
      "image/png": "[encoded data removed]",
      "text/plain": [
       "<Figure size 640x480 with 1 Axes>"
      ]
     },
     "metadata": {},
     "output_type": "display_data"
    }
   ],
   "source": [
    "import matplotlib.pyplot as plt\n",
    "\n",
    "plt.scatter(PCA_X_reduced[:, 0], PCA_X_reduced[:, 1], s=2)"
   ]
  }
 ],
 "metadata": {
  "kernelspec": {
   "display_name": "Python 3 (ipykernel)",
   "language": "python",
   "name": "python3"
  },
  "language_info": {
   "codemirror_mode": {
    "name": "ipython",
    "version": 3
   },
   "file_extension": ".py",
   "mimetype": "text/x-python",
   "name": "python",
   "nbconvert_exporter": "python",
   "pygments_lexer": "ipython3",
   "version": "3.12.3"
  }
 },
 "nbformat": 4,
 "nbformat_minor": 2
}
